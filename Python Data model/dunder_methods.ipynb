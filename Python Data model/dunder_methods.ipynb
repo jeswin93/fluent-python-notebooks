{
 "cells": [
  {
   "cell_type": "code",
   "execution_count": 17,
   "metadata": {},
   "outputs": [
    {
     "name": "stdout",
     "output_type": "stream",
     "text": [
      "main func\n",
      "Card(suit='spade', rank='6')\n",
      "Card(suit='spade', rank='5')\n",
      "Card(suit='spade', rank='4')\n",
      "Card(suit='spade', rank='3')\n",
      "Card(suit='spade', rank='2')\n",
      "52\n",
      "Card(suit='heart', rank='4')\n",
      "hello\n"
     ]
    }
   ],
   "source": [
    "import collections\n",
    "from random import choice\n",
    "#next statement executed in the order of appearance\n",
    "Card = collections.namedtuple('Card', ['suit', 'rank'])\n",
    "\n",
    "class FrenchDeck:\n",
    "#next two statements executed in the order of appearance\n",
    "# they are also static variables and are initialized only once\n",
    "\n",
    "    ranks = [str(num) for num in range(2, 11)] + list('JQKA')\n",
    "    suits = \"spade clubs heart diamond\".split()\n",
    "    \n",
    "    def __init__(self):\n",
    "        self._cards = [Card(suit, rank) for suit in self.suits for rank in self.ranks]\n",
    "    \n",
    "#   implementing len and getitem will make this act like a list \n",
    "    def __len__(self):\n",
    "        return len(self._cards)\n",
    "    \n",
    "    def __getitem__(self, index):\n",
    "        return self._cards[index]\n",
    "    \n",
    "if __name__ == '__main__':\n",
    "    print('main func')\n",
    "    deck = FrenchDeck()\n",
    "    \n",
    "    #the object can be sliced, iterated etc\n",
    "    for card in reversed(deck[:5]):\n",
    "        print(card)\n",
    "    \n",
    "#     the object works with all the inbuild methods\n",
    "#     the len method is a special method and is handled differently in different cases\n",
    "#     for native lists the len method is very fasts as it only reads a length value in the memory structure and is very fast\n",
    "#     other user defined sequences/lists it executes the code under __len__ so that it works everywhere\n",
    "    print(len(deck))\n",
    "    print(choice(deck))\n",
    "    \n",
    "\n",
    "print('hello')"
   ]
  },
  {
   "cell_type": "code",
   "execution_count": null,
   "metadata": {},
   "outputs": [],
   "source": []
  }
 ],
 "metadata": {
  "kernelspec": {
   "display_name": "Python 3 (ipykernel)",
   "language": "python",
   "name": "python3"
  },
  "language_info": {
   "codemirror_mode": {
    "name": "ipython",
    "version": 3
   },
   "file_extension": ".py",
   "mimetype": "text/x-python",
   "name": "python",
   "nbconvert_exporter": "python",
   "pygments_lexer": "ipython3",
   "version": "3.9.12"
  }
 },
 "nbformat": 4,
 "nbformat_minor": 2
}
