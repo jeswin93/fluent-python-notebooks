{
 "cells": [
  {
   "cell_type": "code",
   "execution_count": 1,
   "id": "3b59e04b",
   "metadata": {},
   "outputs": [
    {
     "name": "stdout",
     "output_type": "stream",
     "text": [
      "V5A Burnaby\n",
      "V3V Surrey\n"
     ]
    }
   ],
   "source": [
    "pin_codes = [\n",
    "    ('V5A', 'Burnaby'),\n",
    "    ('V3V', 'Surrey'),\n",
    "]\n",
    "\n",
    "# for loop knows how to unpack tuples\n",
    "# python seems to know to unpack a sequence wherever necessary not just in for loops\n",
    "for pin, area in pin_codes:\n",
    "    print(pin, area)"
   ]
  },
  {
   "cell_type": "markdown",
   "id": "460b7efe",
   "metadata": {},
   "source": [
    "\n",
    "*Use tuples instead of lists whenever you want an immutable list\n",
    "it performs better as it has a smaller memory footprint than python lists*\n"
   ]
  }
 ],
 "metadata": {
  "kernelspec": {
   "display_name": "Python 3 (ipykernel)",
   "language": "python",
   "name": "python3"
  },
  "language_info": {
   "codemirror_mode": {
    "name": "ipython",
    "version": 3
   },
   "file_extension": ".py",
   "mimetype": "text/x-python",
   "name": "python",
   "nbconvert_exporter": "python",
   "pygments_lexer": "ipython3",
   "version": "3.9.12"
  }
 },
 "nbformat": 4,
 "nbformat_minor": 5
}
