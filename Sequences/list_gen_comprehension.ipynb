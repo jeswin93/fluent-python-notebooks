{
 "cells": [
  {
   "cell_type": "code",
   "execution_count": 6,
   "id": "432e51b9",
   "metadata": {},
   "outputs": [
    {
     "name": "stdout",
     "output_type": "stream",
     "text": [
      "a\n",
      "[64, 35, 36, 37, 94, 38]\n",
      "38\n",
      "[('black', 'S'), ('black', 'M'), ('black', 'L'), ('white', 'S'), ('white', 'M'), ('white', 'L')]\n"
     ]
    }
   ],
   "source": [
    "chars = \"@#$%^&\"\n",
    "char = 'a'\n",
    "#ord converts a character to its corresponding unicode value\n",
    "#list comprehension has its own scope\n",
    "values = [ord(char) for char in chars]\n",
    "print(char)\n",
    "print(values)\n",
    "\n",
    "#to expose the variable inside list comprehension use the walrus operator :=\n",
    "#the variable will have the last value in the list\n",
    "\n",
    "values = [last := ord(char) for char in chars]\n",
    "print(last)\n",
    "\n",
    "#We can also generate combinations from two iterables:\n",
    "sizes =\"SML\"\n",
    "colors = \"black white\".split()\n",
    "\n",
    "'''\n",
    "iterates all sizes for each color, for statements can be swapped to\n",
    "iterate through all colors for each size\n",
    "'''\n",
    "all_tshirts = [(color, size) for color in colors\n",
    "                                for size in sizes]\n",
    "print(all_tshirts)"
   ]
  },
  {
   "cell_type": "code",
   "execution_count": null,
   "id": "697299b6",
   "metadata": {},
   "outputs": [],
   "source": []
  }
 ],
 "metadata": {
  "kernelspec": {
   "display_name": "Python 3 (ipykernel)",
   "language": "python",
   "name": "python3"
  },
  "language_info": {
   "codemirror_mode": {
    "name": "ipython",
    "version": 3
   },
   "file_extension": ".py",
   "mimetype": "text/x-python",
   "name": "python",
   "nbconvert_exporter": "python",
   "pygments_lexer": "ipython3",
   "version": "3.9.12"
  }
 },
 "nbformat": 4,
 "nbformat_minor": 5
}
