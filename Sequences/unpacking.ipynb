{
 "cells": [
  {
   "cell_type": "code",
   "execution_count": 1,
   "id": "921166ef",
   "metadata": {},
   "outputs": [
    {
     "name": "stdout",
     "output_type": "stream",
     "text": [
      "2 1\n"
     ]
    }
   ],
   "source": [
    "#Swapping variables without a temp variable using unpacking \n",
    "\n",
    "a = 1\n",
    "b = 2\n",
    "\n",
    "a, b = b, a\n",
    "\n",
    "print(a, b)\n"
   ]
  },
  {
   "cell_type": "code",
   "execution_count": 2,
   "id": "fd5b0d48",
   "metadata": {},
   "outputs": [
    {
     "name": "stdout",
     "output_type": "stream",
     "text": [
      "results withoout unpacking (2, 4)\n",
      "result with unpacking (2, 4)\n",
      "(20, 8)\n",
      "20 8\n"
     ]
    }
   ],
   "source": [
    "print('results withoout unpacking', divmod(20, 8))\n",
    "\n",
    "#use * to unpack sequences to pass as separate arguments\n",
    "t = (20, 8)\n",
    "print('result with unpacking', divmod(*t))\n",
    "\n",
    "print(t)\n",
    "print(*t)"
   ]
  },
  {
   "cell_type": "code",
   "execution_count": 3,
   "id": "a2b214e3",
   "metadata": {},
   "outputs": [
    {
     "name": "stdout",
     "output_type": "stream",
     "text": [
      "0 1 [2, 3, 4]\n"
     ]
    }
   ],
   "source": [
    "#use * grab excess results\n",
    "\n",
    "c, d, *rest = range(5)\n",
    "\n",
    "print(c, d, rest)"
   ]
  },
  {
   "cell_type": "code",
   "execution_count": 4,
   "id": "d42193f0",
   "metadata": {},
   "outputs": [
    {
     "name": "stdout",
     "output_type": "stream",
     "text": [
      "0 [1, 2, 3] 4\n"
     ]
    }
   ],
   "source": [
    "# * can be used anywhere in the list of variable but can only be used once\n",
    "\n",
    "c, *rest , d = range(5)\n",
    "\n",
    "print(c, rest, d)"
   ]
  },
  {
   "cell_type": "code",
   "execution_count": 5,
   "id": "37cb592b",
   "metadata": {},
   "outputs": [
    {
     "name": "stdout",
     "output_type": "stream",
     "text": [
      "[0, 1, 2] 3 4\n"
     ]
    }
   ],
   "source": [
    "*rest, c, d = range(5)\n",
    "\n",
    "print(rest, c, d)"
   ]
  },
  {
   "cell_type": "code",
   "execution_count": 6,
   "id": "b000a2d0",
   "metadata": {},
   "outputs": [
    {
     "name": "stdout",
     "output_type": "stream",
     "text": [
      "0 1 []\n"
     ]
    }
   ],
   "source": [
    "#it can also get an empty sequence if there is no excess\n",
    "\n",
    "c, d, *rest = range(2)\n",
    "\n",
    "print(c, d, rest)"
   ]
  },
  {
   "cell_type": "code",
   "execution_count": null,
   "id": "c2a4d1e3",
   "metadata": {},
   "outputs": [],
   "source": []
  }
 ],
 "metadata": {
  "kernelspec": {
   "display_name": "Python 3 (ipykernel)",
   "language": "python",
   "name": "python3"
  },
  "language_info": {
   "codemirror_mode": {
    "name": "ipython",
    "version": 3
   },
   "file_extension": ".py",
   "mimetype": "text/x-python",
   "name": "python",
   "nbconvert_exporter": "python",
   "pygments_lexer": "ipython3",
   "version": "3.9.12"
  }
 },
 "nbformat": 4,
 "nbformat_minor": 5
}
